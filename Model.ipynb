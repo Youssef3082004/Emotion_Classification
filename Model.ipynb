{
 "cells": [
  {
   "cell_type": "code",
   "execution_count": 1,
   "id": "46e7cc08",
   "metadata": {},
   "outputs": [],
   "source": [
    "import pandas as pd \n",
    "import numpy as np \n",
    "import matplotlib.pyplot as plt\n",
    "import seaborn as sns"
   ]
  },
  {
   "cell_type": "markdown",
   "id": "f73ddac2",
   "metadata": {},
   "source": [
    "> ### Dataset: [**`Dataset`**](https://www.kaggle.com/datasets/bhavikjikadara/emotions-dataset)\n",
    "\n",
    "\n",
    "### Classes \n",
    "- **`0`** : sadness \n",
    "- **`1`** : joy \n",
    "- **`2`** : love \n",
    "- **`3`** : anger\n",
    "- **`4`** : fear \n",
    "- **`5`** : surprise   "
   ]
  },
  {
   "cell_type": "code",
   "execution_count": 2,
   "id": "312cf4d0",
   "metadata": {},
   "outputs": [
    {
     "data": {
      "application/vnd.microsoft.datawrangler.viewer.v0+json": {
       "columns": [
        {
         "name": "index",
         "rawType": "int64",
         "type": "integer"
        },
        {
         "name": "text",
         "rawType": "object",
         "type": "string"
        },
        {
         "name": "label",
         "rawType": "int64",
         "type": "integer"
        }
       ],
       "ref": "479c2edd-b263-4506-a5af-d11f519c732b",
       "rows": [
        [
         "0",
         "i just feel really helpless and heavy hearted",
         "4"
        ],
        [
         "1",
         "ive enjoyed being able to slouch about relax and unwind and frankly needed it after those last few weeks around the end of uni and the expo i have lately started to find myself feeling a bit listless which is never really a good thing",
         "0"
        ],
        [
         "2",
         "i gave up my internship with the dmrg and am feeling distraught",
         "4"
        ],
        [
         "3",
         "i dont know i feel so lost",
         "0"
        ],
        [
         "4",
         "i am a kindergarten teacher and i am thoroughly weary of my job after having taken the university entrance exam i suffered from anxiety for weeks as i did not want to carry on with my work studies were the only alternative",
         "4"
        ],
        [
         "5",
         "i was beginning to feel quite disheartened",
         "0"
        ],
        [
         "6",
         "i would think that whomever would be lucky enough to stay in this suite must feel like it is the most romantic place on earth",
         "2"
        ],
        [
         "7",
         "i fear that they won t ever feel that delicious excitement of christmas eve at least not in the same way i remember doing it",
         "1"
        ],
        [
         "8",
         "im forever taking some time out to have a lie down because i feel weird",
         "5"
        ],
        [
         "9",
         "i can still lose the weight without feeling deprived",
         "0"
        ],
        [
         "10",
         "i try to be nice though so if you get a bitchy person on the phone or at the window feel free to have a little fit and throw your pen at her face",
         "1"
        ],
        [
         "11",
         "im feeling a little like a damaged tree and that my roots are a little out of wack",
         "0"
        ],
        [
         "12",
         "i have officially graduated im not feeling as ecstatic as i thought i would",
         "1"
        ],
        [
         "13",
         "i feel like a jerk because the library students who all claim to love scrabble cant be bothered to participate and clearly scrabble is an inappropriate choice for a group of students whose native language isnt english",
         "3"
        ],
        [
         "14",
         "i feel my portfolio demonstrates how eager i am to learn but some who know me better might call it annoyingly persistent",
         "1"
        ],
        [
         "15",
         "i may be more biased than the next because i have a dependent life to take care of and to keep safe but i feel we all need to take care of ourselves as well",
         "1"
        ],
        [
         "16",
         "i didn t feel terrific",
         "1"
        ],
        [
         "17",
         "i miss all the others as well that feel that i wronged them and they will soon understand that i didnt",
         "3"
        ],
        [
         "18",
         "i feel so stupid that i realise it so late",
         "0"
        ],
        [
         "19",
         "i saunter through the airport terminals feeling that i have had an experience that renders the petty tribulations of everyday travel somehow far less significant",
         "3"
        ],
        [
         "20",
         "i need to feel dangerous and pretty so here a striking dance pick deep in vogue minutes ago",
         "3"
        ],
        [
         "21",
         "i am feeling much stronger and more confident now and by professional opinion i know that i do not have anything serious",
         "1"
        ],
        [
         "22",
         "i take a shower i feel wonderful energetic and all my previous feelings about my life turn into this awesome feeling creating my life like the happiest life in the world",
         "1"
        ],
        [
         "23",
         "i don t feel submissive and for the time being i ve lost interest in some bdsm stuff",
         "0"
        ],
        [
         "24",
         "i would imagine this is just one of the reasons why marriage is so hard because theyll see all the good bad and ugly parts of you the parts that make it hard for you to love yourself and it feels even more awful when you feel like those parts are exposed to other people and i dont know",
         "0"
        ],
        [
         "25",
         "i feel like a real fan not that i was ever a fake fan",
         "0"
        ],
        [
         "26",
         "i feel like i am actually getting something useful out of it",
         "1"
        ],
        [
         "27",
         "i was able to overcome this anxiousness and feel peaceful as i quickly jotted down all the answers to todays homework",
         "1"
        ],
        [
         "28",
         "when",
         "3"
        ],
        [
         "29",
         "i have been successful in providing some peace of mind i feel content",
         "1"
        ],
        [
         "30",
         "i guess that feeling is what im really getting all nostalgic about",
         "2"
        ],
        [
         "31",
         "i needed to show me that i really am integrating and making connections here since i had been feeling pretty homesick the week before",
         "0"
        ],
        [
         "32",
         "i feel disheartened to message him and yet does not get a reply or any news from him",
         "0"
        ],
        [
         "33",
         "i feel assured that i m doing so much right and that i am not alone",
         "1"
        ],
        [
         "34",
         "i was less intelligent and could not really feel through my music was not passionate about the little things im not sure i would go for it",
         "2"
        ],
        [
         "35",
         "i found jason s observation very helpful in restating a truth i learned some years ago as my wife and i now together for years went through some times when you love someone trust can feel an awful lot like letting go",
         "0"
        ],
        [
         "36",
         "i admit some of my inspiration to go this direction is because i am feeling a little melancholy that i won t be making my a href http www",
         "0"
        ],
        [
         "37",
         "i have found myself feeling hopeless about the future and about life",
         "0"
        ],
        [
         "38",
         "i kinda have a feeling that something will come damaged and it wont be returnable or that the whole thing will have a defect",
         "0"
        ],
        [
         "39",
         "this emotion has never been an intense one",
         "3"
        ],
        [
         "40",
         "i dunno i just feel scared to walk in after awhile it got ok but when i walk into this room w poorly erected brick walls separating the room into xm partitions",
         "4"
        ],
        [
         "41",
         "i feel about my holiday break from work pagetitle rugmi popular images of the now",
         "1"
        ],
        [
         "42",
         "i think a guy can make up for lacking funds in romantic ways to make his lady feel taken care of and loved",
         "2"
        ],
        [
         "43",
         "i began to feel doomed",
         "0"
        ],
        [
         "44",
         "i feel my life is totally in ecstatic chaos",
         "1"
        ],
        [
         "45",
         "i feel i am being neglectful to a lot of you by not responding to your comments",
         "0"
        ],
        [
         "46",
         "i havent done my eye make up i hate anyone seeing me and i feel nekkid that sounds really vain but i just think i look horrendous without it",
         "0"
        ],
        [
         "47",
         "i feel a bit intimidated and out of my league due to his experience",
         "4"
        ],
        [
         "48",
         "i remember feeling after the third bong hit that i was being pressured into this",
         "4"
        ],
        [
         "49",
         "i feel anger when i see a parent beating and punishing his child in the street recently i was a withness of a similar case",
         "3"
        ]
       ],
       "shape": {
        "columns": 2,
        "rows": 416809
       }
      },
      "text/html": [
       "<div>\n",
       "<style scoped>\n",
       "    .dataframe tbody tr th:only-of-type {\n",
       "        vertical-align: middle;\n",
       "    }\n",
       "\n",
       "    .dataframe tbody tr th {\n",
       "        vertical-align: top;\n",
       "    }\n",
       "\n",
       "    .dataframe thead th {\n",
       "        text-align: right;\n",
       "    }\n",
       "</style>\n",
       "<table border=\"1\" class=\"dataframe\">\n",
       "  <thead>\n",
       "    <tr style=\"text-align: right;\">\n",
       "      <th></th>\n",
       "      <th>text</th>\n",
       "      <th>label</th>\n",
       "    </tr>\n",
       "  </thead>\n",
       "  <tbody>\n",
       "    <tr>\n",
       "      <th>0</th>\n",
       "      <td>i just feel really helpless and heavy hearted</td>\n",
       "      <td>4</td>\n",
       "    </tr>\n",
       "    <tr>\n",
       "      <th>1</th>\n",
       "      <td>ive enjoyed being able to slouch about relax a...</td>\n",
       "      <td>0</td>\n",
       "    </tr>\n",
       "    <tr>\n",
       "      <th>2</th>\n",
       "      <td>i gave up my internship with the dmrg and am f...</td>\n",
       "      <td>4</td>\n",
       "    </tr>\n",
       "    <tr>\n",
       "      <th>3</th>\n",
       "      <td>i dont know i feel so lost</td>\n",
       "      <td>0</td>\n",
       "    </tr>\n",
       "    <tr>\n",
       "      <th>4</th>\n",
       "      <td>i am a kindergarten teacher and i am thoroughl...</td>\n",
       "      <td>4</td>\n",
       "    </tr>\n",
       "    <tr>\n",
       "      <th>...</th>\n",
       "      <td>...</td>\n",
       "      <td>...</td>\n",
       "    </tr>\n",
       "    <tr>\n",
       "      <th>416804</th>\n",
       "      <td>i feel like telling these horny devils to find...</td>\n",
       "      <td>2</td>\n",
       "    </tr>\n",
       "    <tr>\n",
       "      <th>416805</th>\n",
       "      <td>i began to realize that when i was feeling agi...</td>\n",
       "      <td>3</td>\n",
       "    </tr>\n",
       "    <tr>\n",
       "      <th>416806</th>\n",
       "      <td>i feel very curious be why previous early dawn...</td>\n",
       "      <td>5</td>\n",
       "    </tr>\n",
       "    <tr>\n",
       "      <th>416807</th>\n",
       "      <td>i feel that becuase of the tyranical nature of...</td>\n",
       "      <td>3</td>\n",
       "    </tr>\n",
       "    <tr>\n",
       "      <th>416808</th>\n",
       "      <td>i think that after i had spent some time inves...</td>\n",
       "      <td>5</td>\n",
       "    </tr>\n",
       "  </tbody>\n",
       "</table>\n",
       "<p>416809 rows × 2 columns</p>\n",
       "</div>"
      ],
      "text/plain": [
       "                                                     text  label\n",
       "0           i just feel really helpless and heavy hearted      4\n",
       "1       ive enjoyed being able to slouch about relax a...      0\n",
       "2       i gave up my internship with the dmrg and am f...      4\n",
       "3                              i dont know i feel so lost      0\n",
       "4       i am a kindergarten teacher and i am thoroughl...      4\n",
       "...                                                   ...    ...\n",
       "416804  i feel like telling these horny devils to find...      2\n",
       "416805  i began to realize that when i was feeling agi...      3\n",
       "416806  i feel very curious be why previous early dawn...      5\n",
       "416807  i feel that becuase of the tyranical nature of...      3\n",
       "416808  i think that after i had spent some time inves...      5\n",
       "\n",
       "[416809 rows x 2 columns]"
      ]
     },
     "execution_count": 2,
     "metadata": {},
     "output_type": "execute_result"
    }
   ],
   "source": [
    "df = pd.read_csv(\"emotions.csv\")\n",
    "df"
   ]
  },
  {
   "cell_type": "code",
   "execution_count": 3,
   "id": "b67cc7cb",
   "metadata": {},
   "outputs": [
    {
     "name": "stdout",
     "output_type": "stream",
     "text": [
      "<class 'pandas.core.frame.DataFrame'>\n",
      "RangeIndex: 416809 entries, 0 to 416808\n",
      "Data columns (total 2 columns):\n",
      " #   Column  Non-Null Count   Dtype \n",
      "---  ------  --------------   ----- \n",
      " 0   text    416809 non-null  object\n",
      " 1   label   416809 non-null  int64 \n",
      "dtypes: int64(1), object(1)\n",
      "memory usage: 6.4+ MB\n"
     ]
    }
   ],
   "source": [
    "df.info()"
   ]
  },
  {
   "cell_type": "code",
   "execution_count": 6,
   "id": "ecf490c6",
   "metadata": {},
   "outputs": [
    {
     "data": {
      "application/vnd.microsoft.datawrangler.viewer.v0+json": {
       "columns": [
        {
         "name": "index",
         "rawType": "object",
         "type": "string"
        },
        {
         "name": "text",
         "rawType": "object",
         "type": "unknown"
        }
       ],
       "ref": "18245d15-3c46-4305-b448-69e38b623641",
       "rows": [
        [
         "count",
         "416809"
        ],
        [
         "unique",
         "393822"
        ],
        [
         "top",
         "i feel more adventurous willing to take risks"
        ],
        [
         "freq",
         "16"
        ]
       ],
       "shape": {
        "columns": 1,
        "rows": 4
       }
      },
      "text/html": [
       "<div>\n",
       "<style scoped>\n",
       "    .dataframe tbody tr th:only-of-type {\n",
       "        vertical-align: middle;\n",
       "    }\n",
       "\n",
       "    .dataframe tbody tr th {\n",
       "        vertical-align: top;\n",
       "    }\n",
       "\n",
       "    .dataframe thead th {\n",
       "        text-align: right;\n",
       "    }\n",
       "</style>\n",
       "<table border=\"1\" class=\"dataframe\">\n",
       "  <thead>\n",
       "    <tr style=\"text-align: right;\">\n",
       "      <th></th>\n",
       "      <th>text</th>\n",
       "    </tr>\n",
       "  </thead>\n",
       "  <tbody>\n",
       "    <tr>\n",
       "      <th>count</th>\n",
       "      <td>416809</td>\n",
       "    </tr>\n",
       "    <tr>\n",
       "      <th>unique</th>\n",
       "      <td>393822</td>\n",
       "    </tr>\n",
       "    <tr>\n",
       "      <th>top</th>\n",
       "      <td>i feel more adventurous willing to take risks</td>\n",
       "    </tr>\n",
       "    <tr>\n",
       "      <th>freq</th>\n",
       "      <td>16</td>\n",
       "    </tr>\n",
       "  </tbody>\n",
       "</table>\n",
       "</div>"
      ],
      "text/plain": [
       "                                                 text\n",
       "count                                          416809\n",
       "unique                                         393822\n",
       "top     i feel more adventurous willing to take risks\n",
       "freq                                               16"
      ]
     },
     "execution_count": 6,
     "metadata": {},
     "output_type": "execute_result"
    }
   ],
   "source": [
    "df.describe(include=['object'])\n"
   ]
  },
  {
   "cell_type": "code",
   "execution_count": 10,
   "id": "4904f9d8",
   "metadata": {},
   "outputs": [
    {
     "name": "stdout",
     "output_type": "stream",
     "text": [
      "686\n"
     ]
    },
    {
     "data": {
      "application/vnd.microsoft.datawrangler.viewer.v0+json": {
       "columns": [
        {
         "name": "index",
         "rawType": "int64",
         "type": "integer"
        },
        {
         "name": "text",
         "rawType": "object",
         "type": "string"
        },
        {
         "name": "label",
         "rawType": "int64",
         "type": "integer"
        }
       ],
       "ref": "3c7000e1-52e8-4b44-8823-144e808b10ae",
       "rows": [
        [
         "0",
         "i just feel really helpless and heavy hearted",
         "4"
        ],
        [
         "1",
         "ive enjoyed being able to slouch about relax and unwind and frankly needed it after those last few weeks around the end of uni and the expo i have lately started to find myself feeling a bit listless which is never really a good thing",
         "0"
        ],
        [
         "2",
         "i gave up my internship with the dmrg and am feeling distraught",
         "4"
        ],
        [
         "3",
         "i dont know i feel so lost",
         "0"
        ],
        [
         "4",
         "i am a kindergarten teacher and i am thoroughly weary of my job after having taken the university entrance exam i suffered from anxiety for weeks as i did not want to carry on with my work studies were the only alternative",
         "4"
        ],
        [
         "5",
         "i was beginning to feel quite disheartened",
         "0"
        ],
        [
         "6",
         "i would think that whomever would be lucky enough to stay in this suite must feel like it is the most romantic place on earth",
         "2"
        ],
        [
         "7",
         "i fear that they won t ever feel that delicious excitement of christmas eve at least not in the same way i remember doing it",
         "1"
        ],
        [
         "8",
         "im forever taking some time out to have a lie down because i feel weird",
         "5"
        ],
        [
         "9",
         "i can still lose the weight without feeling deprived",
         "0"
        ],
        [
         "10",
         "i try to be nice though so if you get a bitchy person on the phone or at the window feel free to have a little fit and throw your pen at her face",
         "1"
        ],
        [
         "11",
         "im feeling a little like a damaged tree and that my roots are a little out of wack",
         "0"
        ],
        [
         "12",
         "i have officially graduated im not feeling as ecstatic as i thought i would",
         "1"
        ],
        [
         "13",
         "i feel like a jerk because the library students who all claim to love scrabble cant be bothered to participate and clearly scrabble is an inappropriate choice for a group of students whose native language isnt english",
         "3"
        ],
        [
         "14",
         "i feel my portfolio demonstrates how eager i am to learn but some who know me better might call it annoyingly persistent",
         "1"
        ],
        [
         "15",
         "i may be more biased than the next because i have a dependent life to take care of and to keep safe but i feel we all need to take care of ourselves as well",
         "1"
        ],
        [
         "16",
         "i didn t feel terrific",
         "1"
        ],
        [
         "17",
         "i miss all the others as well that feel that i wronged them and they will soon understand that i didnt",
         "3"
        ],
        [
         "18",
         "i feel so stupid that i realise it so late",
         "0"
        ],
        [
         "19",
         "i saunter through the airport terminals feeling that i have had an experience that renders the petty tribulations of everyday travel somehow far less significant",
         "3"
        ],
        [
         "20",
         "i need to feel dangerous and pretty so here a striking dance pick deep in vogue minutes ago",
         "3"
        ],
        [
         "21",
         "i am feeling much stronger and more confident now and by professional opinion i know that i do not have anything serious",
         "1"
        ],
        [
         "22",
         "i take a shower i feel wonderful energetic and all my previous feelings about my life turn into this awesome feeling creating my life like the happiest life in the world",
         "1"
        ],
        [
         "23",
         "i don t feel submissive and for the time being i ve lost interest in some bdsm stuff",
         "0"
        ],
        [
         "24",
         "i would imagine this is just one of the reasons why marriage is so hard because theyll see all the good bad and ugly parts of you the parts that make it hard for you to love yourself and it feels even more awful when you feel like those parts are exposed to other people and i dont know",
         "0"
        ],
        [
         "25",
         "i feel like a real fan not that i was ever a fake fan",
         "0"
        ],
        [
         "26",
         "i feel like i am actually getting something useful out of it",
         "1"
        ],
        [
         "27",
         "i was able to overcome this anxiousness and feel peaceful as i quickly jotted down all the answers to todays homework",
         "1"
        ],
        [
         "28",
         "when",
         "3"
        ],
        [
         "29",
         "i have been successful in providing some peace of mind i feel content",
         "1"
        ],
        [
         "30",
         "i guess that feeling is what im really getting all nostalgic about",
         "2"
        ],
        [
         "31",
         "i needed to show me that i really am integrating and making connections here since i had been feeling pretty homesick the week before",
         "0"
        ],
        [
         "32",
         "i feel disheartened to message him and yet does not get a reply or any news from him",
         "0"
        ],
        [
         "33",
         "i feel assured that i m doing so much right and that i am not alone",
         "1"
        ],
        [
         "34",
         "i was less intelligent and could not really feel through my music was not passionate about the little things im not sure i would go for it",
         "2"
        ],
        [
         "35",
         "i found jason s observation very helpful in restating a truth i learned some years ago as my wife and i now together for years went through some times when you love someone trust can feel an awful lot like letting go",
         "0"
        ],
        [
         "36",
         "i admit some of my inspiration to go this direction is because i am feeling a little melancholy that i won t be making my a href http www",
         "0"
        ],
        [
         "37",
         "i have found myself feeling hopeless about the future and about life",
         "0"
        ],
        [
         "38",
         "i kinda have a feeling that something will come damaged and it wont be returnable or that the whole thing will have a defect",
         "0"
        ],
        [
         "39",
         "this emotion has never been an intense one",
         "3"
        ],
        [
         "40",
         "i dunno i just feel scared to walk in after awhile it got ok but when i walk into this room w poorly erected brick walls separating the room into xm partitions",
         "4"
        ],
        [
         "41",
         "i feel about my holiday break from work pagetitle rugmi popular images of the now",
         "1"
        ],
        [
         "42",
         "i think a guy can make up for lacking funds in romantic ways to make his lady feel taken care of and loved",
         "2"
        ],
        [
         "43",
         "i began to feel doomed",
         "0"
        ],
        [
         "44",
         "i feel my life is totally in ecstatic chaos",
         "1"
        ],
        [
         "45",
         "i feel i am being neglectful to a lot of you by not responding to your comments",
         "0"
        ],
        [
         "46",
         "i havent done my eye make up i hate anyone seeing me and i feel nekkid that sounds really vain but i just think i look horrendous without it",
         "0"
        ],
        [
         "47",
         "i feel a bit intimidated and out of my league due to his experience",
         "4"
        ],
        [
         "48",
         "i remember feeling after the third bong hit that i was being pressured into this",
         "4"
        ],
        [
         "49",
         "i feel anger when i see a parent beating and punishing his child in the street recently i was a withness of a similar case",
         "3"
        ]
       ],
       "shape": {
        "columns": 2,
        "rows": 416123
       }
      },
      "text/html": [
       "<div>\n",
       "<style scoped>\n",
       "    .dataframe tbody tr th:only-of-type {\n",
       "        vertical-align: middle;\n",
       "    }\n",
       "\n",
       "    .dataframe tbody tr th {\n",
       "        vertical-align: top;\n",
       "    }\n",
       "\n",
       "    .dataframe thead th {\n",
       "        text-align: right;\n",
       "    }\n",
       "</style>\n",
       "<table border=\"1\" class=\"dataframe\">\n",
       "  <thead>\n",
       "    <tr style=\"text-align: right;\">\n",
       "      <th></th>\n",
       "      <th>text</th>\n",
       "      <th>label</th>\n",
       "    </tr>\n",
       "  </thead>\n",
       "  <tbody>\n",
       "    <tr>\n",
       "      <th>0</th>\n",
       "      <td>i just feel really helpless and heavy hearted</td>\n",
       "      <td>4</td>\n",
       "    </tr>\n",
       "    <tr>\n",
       "      <th>1</th>\n",
       "      <td>ive enjoyed being able to slouch about relax a...</td>\n",
       "      <td>0</td>\n",
       "    </tr>\n",
       "    <tr>\n",
       "      <th>2</th>\n",
       "      <td>i gave up my internship with the dmrg and am f...</td>\n",
       "      <td>4</td>\n",
       "    </tr>\n",
       "    <tr>\n",
       "      <th>3</th>\n",
       "      <td>i dont know i feel so lost</td>\n",
       "      <td>0</td>\n",
       "    </tr>\n",
       "    <tr>\n",
       "      <th>4</th>\n",
       "      <td>i am a kindergarten teacher and i am thoroughl...</td>\n",
       "      <td>4</td>\n",
       "    </tr>\n",
       "    <tr>\n",
       "      <th>...</th>\n",
       "      <td>...</td>\n",
       "      <td>...</td>\n",
       "    </tr>\n",
       "    <tr>\n",
       "      <th>416804</th>\n",
       "      <td>i feel like telling these horny devils to find...</td>\n",
       "      <td>2</td>\n",
       "    </tr>\n",
       "    <tr>\n",
       "      <th>416805</th>\n",
       "      <td>i began to realize that when i was feeling agi...</td>\n",
       "      <td>3</td>\n",
       "    </tr>\n",
       "    <tr>\n",
       "      <th>416806</th>\n",
       "      <td>i feel very curious be why previous early dawn...</td>\n",
       "      <td>5</td>\n",
       "    </tr>\n",
       "    <tr>\n",
       "      <th>416807</th>\n",
       "      <td>i feel that becuase of the tyranical nature of...</td>\n",
       "      <td>3</td>\n",
       "    </tr>\n",
       "    <tr>\n",
       "      <th>416808</th>\n",
       "      <td>i think that after i had spent some time inves...</td>\n",
       "      <td>5</td>\n",
       "    </tr>\n",
       "  </tbody>\n",
       "</table>\n",
       "<p>416123 rows × 2 columns</p>\n",
       "</div>"
      ],
      "text/plain": [
       "                                                     text  label\n",
       "0           i just feel really helpless and heavy hearted      4\n",
       "1       ive enjoyed being able to slouch about relax a...      0\n",
       "2       i gave up my internship with the dmrg and am f...      4\n",
       "3                              i dont know i feel so lost      0\n",
       "4       i am a kindergarten teacher and i am thoroughl...      4\n",
       "...                                                   ...    ...\n",
       "416804  i feel like telling these horny devils to find...      2\n",
       "416805  i began to realize that when i was feeling agi...      3\n",
       "416806  i feel very curious be why previous early dawn...      5\n",
       "416807  i feel that becuase of the tyranical nature of...      3\n",
       "416808  i think that after i had spent some time inves...      5\n",
       "\n",
       "[416123 rows x 2 columns]"
      ]
     },
     "execution_count": 10,
     "metadata": {},
     "output_type": "execute_result"
    }
   ],
   "source": [
    "print(df.duplicated().sum())\n",
    "df.drop_duplicates()"
   ]
  }
 ],
 "metadata": {
  "kernelspec": {
   "display_name": "Python 3",
   "language": "python",
   "name": "python3"
  },
  "language_info": {
   "codemirror_mode": {
    "name": "ipython",
    "version": 3
   },
   "file_extension": ".py",
   "mimetype": "text/x-python",
   "name": "python",
   "nbconvert_exporter": "python",
   "pygments_lexer": "ipython3",
   "version": "3.13.1"
  }
 },
 "nbformat": 4,
 "nbformat_minor": 5
}
